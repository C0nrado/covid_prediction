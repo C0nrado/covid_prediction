{
 "cells": [
  {
   "cell_type": "markdown",
   "id": "subsequent-uzbekistan",
   "metadata": {
    "slideshow": {
     "slide_type": "slide"
    }
   },
   "source": [
    "# Previsão de Mortes por COVID"
   ]
  },
  {
   "cell_type": "markdown",
   "id": "public-identity",
   "metadata": {
    "slideshow": {
     "slide_type": "fragment"
    }
   },
   "source": [
    "O projeto consistiu em produzir módulos, scripts, notebooks para as tarefas de análise exploratória e modelagem preditiva do número de mortes pela COVID em 2020.\n",
    "\n",
    "Os dados oferecidos são acessados pela api:\n",
    "\n",
    "* COVID TRACKING: https://api.covidtracking.com \n",
    "    - Valores históricos: /v1/us/daily.csv\n",
    "    - Meta dados dos Estados: /v1/states/info.csv\n",
    "    - Valores históricos para Estados: /v1/states/{state}/current.csv\n",
    "   \n",
    "Além desses, foram também consultados:\n",
    "\n",
    "* POPULATION ESTIMATES API: https://api.census.gov/data/2019/pep/population\n",
    "    - Consulta a estimativas populacionais nos EUA."
   ]
  },
  {
   "cell_type": "markdown",
   "id": "possible-feature",
   "metadata": {
    "slideshow": {
     "slide_type": "slide"
    }
   },
   "source": [
    "### Ferramentas desenvolvidas\n",
    "\n",
    " * `api_manager`módulo\n",
    " \n",
    "     Esse módulo oferece a class `ApiManager` que automatiza os requests das APIs, o gerencimento dos diretório onde os dados serão armazenados ao mesmo tempo que ofere rápido acesso a eles.\n",
    "\n",
    "* `DataframeTransformer` (módulo transformers.py)\n",
    "\n",
    "    Este módulo perimte construir pipelines de transformação em estruturas de dados. Nesse projeto ele foi utilizado para fazer pipelines de processamento dos dados buscados na API.\n",
    "\n",
    "    Foi pensado em ser versátil e prático e por isso ele é capaz de utilizar com facilidade funções customizadas para integrar o pipeline."
   ]
  },
  {
   "cell_type": "markdown",
   "id": "synthetic-bacteria",
   "metadata": {
    "slideshow": {
     "slide_type": "subslide"
    }
   },
   "source": [
    "  ### Scripts & Resources\n",
    "  \n",
    "        .resources/\n",
    "            |__ \n",
    "  \n",
    "       .scripts/\n",
    "            |__retrieve-data-nb01.py        # coletar dados do covid\n",
    "            |__retrieve-data-by-states.py   # coletar dados por estados\n",
    "            |__retrieve-data-census.py      # coletar dados demográficos\n",
    "            |__processing_data_by_states.py # preparar dados para EDA\n",
    "            |__make_datasets.py             # construir `traininig` e `test` sets\n",
    "            |__training.py                  # trainer modelo de regressão\n",
    "            |__model_evaluation.py          # Calcular previsão e métrica de performance para o `test_set`"
   ]
  },
  {
   "cell_type": "markdown",
   "id": "foreign-philosophy",
   "metadata": {
    "slideshow": {
     "slide_type": "slide"
    }
   },
   "source": [
    "## Notebooks\n",
    "---\n",
    "\n",
    "Os notebooks se encontram na raiz do repositório e foram utilizados para *análise exploratória* (EDA), vizualização e avaliação do modelo.\n",
    "\n",
    "A Análise Exploratória dos dados nesse projeto teve como foco primário estudar as variáveis acessíveis na COVID TRACKING API e definir estratégias para modelagem preditiva. Nesse escopo encontram-se atividades de visualização, tratamento, engenharia de atributos, análises estatísticas e de mineraçao.\n",
    "\n",
    "* `01_exploração_inicial.ipynb`\n",
    "    \n",
    "    Esse notebook investiga as características da séries temporais das variáveis relacionadas a epidemia do covid. Define a melhor variável alvo com seus possíveis preditores, além de investigar tratamentos nos dados visando ganhos no modelo preditivo."
   ]
  },
  {
   "cell_type": "markdown",
   "id": "horizontal-intro",
   "metadata": {
    "slideshow": {
     "slide_type": "fragment"
    }
   },
   "source": [
    "* `02_EDA_avancada.ipynb`\n",
    "\n",
    "    O foco deste notebook é visualização e mineração para definição de estratégias para o modelo preditivo. Foram empegadas técnicas e/ou algorítimos para decomposição espectral das séries temporais e clusterização para detecção de anomalias. A mineração se voltou para com essas técnicas buscar perfis regionais de evolução da covid no território americano.\n",
    "\n",
    "* `03_Avaliacao_regressao,ipynb`\n",
    "\n",
    "    Este é um notebook dedicado para visualização dos resultados/previsões do modelo nos dados de teste.\n",
    "\n",
    "    Aqui foram  exploradas tanto as taxas de mortes diárias como acumuladas ao longo do período de teste."
   ]
  },
  {
   "cell_type": "markdown",
   "id": "sealed-wagon",
   "metadata": {
    "slideshow": {
     "slide_type": "slide"
    }
   },
   "source": [
    "# EDA – Análise Exploratória\n",
    "---\n",
    "\n",
    "**OBJETIVOS**\n",
    "\n",
    "* Identificar ou criar variáveis alvos que mais se adequem ao objetivo do projeto.\n",
    "    > Nesse projeto as variáveis representavam acúmulos enquanto outras taxas de variação. Estas últimas foram o foco da análise visando sua utilidade preditiva.\n",
    "    \n",
    "* Minerar dados e insights no desenho do modelo preditivo mais adequado\n",
    "    > Com o foco sendo prever mortes no ambito nacional, como o ambiente local (estados) importam?\n",
    "\n",
    "* Desenvolver técnicas de abordagem que serão proveitosas nas etapas posteriores\n",
    "    > Algumas das dificuldades aparecem em virtudes das primeiras escolhas no projeto, como o descarte de dados, ou o caso da variável algo escolhida `deathIncrease` ter oscilações\n",
    "    \n",
    "* Tratamento de NULLs"
   ]
  },
  {
   "cell_type": "markdown",
   "id": "champion-colors",
   "metadata": {
    "slideshow": {
     "slide_type": "subslide"
    }
   },
   "source": [
    "### EDA – Parte 1\n",
    "---\n",
    "* Algumas variáveis apresentam características semelhantes às da alvo.\n",
    "* Variável alvo tem características oscilatórias.\n",
    "    \n",
    "   \n",
    "<center><img src=\"data/imgs/deathIncrease_noisy.png\" width=\"700\"></center>"
   ]
  },
  {
   "cell_type": "markdown",
   "id": "outside-thunder",
   "metadata": {
    "slideshow": {
     "slide_type": "subslide"
    }
   },
   "source": [
    "### EDA – Parte 1\n",
    "---\n",
    " * *Utilizando do modelo Seasonal-Trend Decomposition (LOESS)*\n",
    "     A modelagem da sasonalidade por STL foi feita com a minimização e diagnóstico dos resíduos.\n",
    "     \n",
    "<img src=\"data/imgs/stl_trends_deaths.png\" width=\"700\">"
   ]
  },
  {
   "cell_type": "markdown",
   "id": "deadly-habitat",
   "metadata": {
    "slideshow": {
     "slide_type": "slide"
    }
   },
   "source": [
    "### EDA – Parte 1\n",
    "---\n",
    "\n",
    "* Capacidade preditiva foi avaliada pela quantidade de *lags* que levam à maximização da correlação (Pearson) entre as séries temporais\n",
    "\n",
    "    \n",
    "\n",
    "\n",
    "        [inIcuCurrently...........] Linear Corr (0.820) maximizado para lag => 00\n",
    "        [hospitalizedCurrently....] Linear Corr (0.616) maximizado para lag => 11\n",
    "        [hospitalizedIncrease.....] Linear Corr (0.808) maximizado para lag => 10\n",
    "        [positiveIncrease.........] Linear Corr (0.401) maximizado para lag => 31\n",
    "   "
   ]
  },
  {
   "cell_type": "markdown",
   "id": "aggressive-reason",
   "metadata": {
    "slideshow": {
     "slide_type": "slide"
    }
   },
   "source": [
    "### EDA – Parte 2\n",
    "---\n",
    "\n",
    "* O objetivo nessa segunda fase é minerar dados e informações para a modelagem preditiva.\n",
    "* A análise ganha foco na variável de interesse e o volume de dados é aumentado.\n",
    "* A análise espectral e detecção de anomalias por clusterização são impregadas nesse intuito.\n",
    "\n",
    "> Como essa parte da EDA trata com dados de estados, a variável `deathIncrease` foi alterado para representar a *taxa de mortes por covid para cada 100.000 pessoas\"."
   ]
  },
  {
   "cell_type": "markdown",
   "id": "periodic-credits",
   "metadata": {
    "slideshow": {
     "slide_type": "slide"
    }
   },
   "source": [
    "### EDA – Parte 2\n",
    "---\n",
    "\n",
    "<center><img src=\"data/imgs/components.png\" width=\"700\"></center>\n",
    "\n",
    "* As componentes representam características em comum compartilhadas entre os estados.\n",
    "    > A segunda componente indica um crescimento da taxa de mortes próximo ao final do ano.\n",
    " \n",
    "* A varância explicada mostra como poucas carcterísticas (4 componentes) contam com ~95% da varância de um conjunto de dados muito maior.\n",
    "    > Nesse caso, elas indicam padrões de evolução da pandemia em certos locais. Estados com a 2a. compnente principal destacada são aqueles que tiveram uma aceleração na taxa de mortes."
   ]
  },
  {
   "cell_type": "markdown",
   "id": "colored-drill",
   "metadata": {
    "slideshow": {
     "slide_type": "subslide"
    }
   },
   "source": [
    "### EDA – Parte 2\n",
    "---\n",
    "\n",
    "<center><img src=\"data/imgs/projeçoes_estados.png\" width=\"800\"></center>"
   ]
  },
  {
   "cell_type": "markdown",
   "id": "described-detail",
   "metadata": {
    "slideshow": {
     "slide_type": "subslide"
    }
   },
   "source": [
    "* A segunda componente, que indicava um aumento expresisvo na taxa de mortes por covid, foi analisada nos estados em que ela teve maior destaque.\n",
    "    Esses estados, que foram vistos na imagem, concentram uma população muito restrita em relação ao nacional (menos de 5%). Assim essa anomalia não vai influir perigosamente no modelo."
   ]
  },
  {
   "cell_type": "markdown",
   "id": "comparable-contemporary",
   "metadata": {
    "slideshow": {
     "slide_type": "slide"
    }
   },
   "source": [
    "### EDA – Parte 2\n",
    "---\n",
    "**BOTTOMLINE**\n",
    "\n",
    "O comportamento do covid nos eua evoluiu para um estado em que ela é similar mesmo em regiões geograficamente afastadas. \n",
    "\n",
    "O período inicial dos dados será descartado pois nesse período os estados apresentam séries bastantes dispersas. A partir destas informações já é possível desenhar modelos preditivos e de *forecasting* basedos nestes dados. Opções são utilizar a própria autocorrelação das séries nacionais em modelos autoregressivos como ARIMA ou utilizar utilizar preditores.\n"
   ]
  },
  {
   "cell_type": "markdown",
   "id": "cardiovascular-andrew",
   "metadata": {
    "slideshow": {
     "slide_type": "slide"
    }
   },
   "source": [
    "# Previsão de Mortes por COVID\n",
    "---\n",
    "\n",
    "* \n",
    "O modelo se aproxima bastante da taxa de mortes suavizada com Loess e se faz assim representativo da série temporal dos registros de `deathIncrease`. Ao lado, ao integrar o modelo, o o viés (bias) do model vai ficando aparente. \n",
    "\n",
    "\n",
    "<center><img src=\"data/imgs/model_performance.png\"></center>"
   ]
  }
 ],
 "metadata": {
  "celltoolbar": "Slideshow",
  "kernelspec": {
   "display_name": "Python 3",
   "language": "python",
   "name": "python3"
  },
  "language_info": {
   "codemirror_mode": {
    "name": "ipython",
    "version": 3
   },
   "file_extension": ".py",
   "mimetype": "text/x-python",
   "name": "python",
   "nbconvert_exporter": "python",
   "pygments_lexer": "ipython3",
   "version": "3.7.9"
  }
 },
 "nbformat": 4,
 "nbformat_minor": 5
}
